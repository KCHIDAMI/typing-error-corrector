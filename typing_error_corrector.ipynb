{
  "nbformat": 4,
  "nbformat_minor": 0,
  "metadata": {
    "colab": {
      "name": "Untitled19.ipynb",
      "provenance": []
    },
    "kernelspec": {
      "name": "python3",
      "display_name": "Python 3"
    },
    "language_info": {
      "name": "python"
    }
  },
  "cells": [
    {
      "cell_type": "markdown",
      "metadata": {
        "id": "_97ef0ZXoahS"
      },
      "source": [
        "in this little notebook, we show how it can be easy to create a typing error corrector using similarities with levenshtein distance.\n",
        "This code can be used for example in text data preprocessing for example"
      ]
    },
    {
      "cell_type": "code",
      "metadata": {
        "colab": {
          "base_uri": "https://localhost:8080/"
        },
        "id": "JWPLqCsaoWa2",
        "outputId": "de653c4b-7acd-40f1-99ad-c44c05be9b4a"
      },
      "source": [
        "# installing the jellyfish library to compute levenshtein distance\n",
        "! pip install jellyfish"
      ],
      "execution_count": 1,
      "outputs": [
        {
          "output_type": "stream",
          "name": "stdout",
          "text": [
            "Collecting jellyfish\n",
            "  Downloading jellyfish-0.8.8.tar.gz (134 kB)\n",
            "\u001b[?25l\r\u001b[K     |██▍                             | 10 kB 24.5 MB/s eta 0:00:01\r\u001b[K     |████▉                           | 20 kB 8.5 MB/s eta 0:00:01\r\u001b[K     |███████▎                        | 30 kB 5.5 MB/s eta 0:00:01\r\u001b[K     |█████████▊                      | 40 kB 5.4 MB/s eta 0:00:01\r\u001b[K     |████████████▏                   | 51 kB 2.7 MB/s eta 0:00:01\r\u001b[K     |██████████████▋                 | 61 kB 2.9 MB/s eta 0:00:01\r\u001b[K     |█████████████████               | 71 kB 3.0 MB/s eta 0:00:01\r\u001b[K     |███████████████████▌            | 81 kB 3.4 MB/s eta 0:00:01\r\u001b[K     |██████████████████████          | 92 kB 3.6 MB/s eta 0:00:01\r\u001b[K     |████████████████████████▍       | 102 kB 2.8 MB/s eta 0:00:01\r\u001b[K     |██████████████████████████▉     | 112 kB 2.8 MB/s eta 0:00:01\r\u001b[K     |█████████████████████████████▎  | 122 kB 2.8 MB/s eta 0:00:01\r\u001b[K     |███████████████████████████████▊| 133 kB 2.8 MB/s eta 0:00:01\r\u001b[K     |████████████████████████████████| 134 kB 2.8 MB/s \n",
            "\u001b[?25hBuilding wheels for collected packages: jellyfish\n",
            "  Building wheel for jellyfish (setup.py) ... \u001b[?25l\u001b[?25hdone\n",
            "  Created wheel for jellyfish: filename=jellyfish-0.8.8-cp37-cp37m-linux_x86_64.whl size=73229 sha256=a2c4e27aef35f69d9e99fcb4b2fc970a7a7dfa71fe5158e5cd8a8553e677c917\n",
            "  Stored in directory: /root/.cache/pip/wheels/82/aa/f4/716387e1f167cbbf911488aa056138152f4d8699c9c9b43ea8\n",
            "Successfully built jellyfish\n",
            "Installing collected packages: jellyfish\n",
            "Successfully installed jellyfish-0.8.8\n"
          ]
        }
      ]
    },
    {
      "cell_type": "code",
      "metadata": {
        "id": "Ezu_zHnEpG1B"
      },
      "source": [
        "# let's assume we have a list of words (here a list of companies that can be for example a list of customers or providers ...)\n",
        "customers_list = ['apple', 'facebook', 'microsoft', 'google', 'amazon', 'ibm']"
      ],
      "execution_count": 3,
      "outputs": []
    },
    {
      "cell_type": "code",
      "metadata": {
        "id": "PTJksJDnw9OY"
      },
      "source": [
        "import jellyfish"
      ],
      "execution_count": 7,
      "outputs": []
    },
    {
      "cell_type": "code",
      "metadata": {
        "id": "fBL_5auwpq79"
      },
      "source": [
        "# now let's define a function that computes the distance between a word and all the elements of a list and then returns the closest word in that list\n",
        "def word_corrector(word,words_list):\n",
        "  # creating a dictionnary where keys are words from words_list and values are levenshtein distance between key and word\n",
        "  dict_distances = {i:jellyfish.levenshtein_distance(word,i) for i in words_list}\n",
        "\n",
        "  # we return then the key with the lower value corresponding the the closest to word in terms of levenstein distance\n",
        "  return min(dict_distances, key=dict_distances.get)"
      ],
      "execution_count": 54,
      "outputs": []
    },
    {
      "cell_type": "code",
      "metadata": {
        "colab": {
          "base_uri": "https://localhost:8080/",
          "height": 35
        },
        "id": "8Gw8LVihwpCB",
        "outputId": "13663b29-e6e0-49b0-a63c-ca661b8c6275"
      },
      "source": [
        "# example 1 \n",
        "word_corrector('fucebook',customers_list)"
      ],
      "execution_count": 55,
      "outputs": [
        {
          "output_type": "execute_result",
          "data": {
            "application/vnd.google.colaboratory.intrinsic+json": {
              "type": "string"
            },
            "text/plain": [
              "'facebook'"
            ]
          },
          "metadata": {},
          "execution_count": 55
        }
      ]
    },
    {
      "cell_type": "code",
      "metadata": {
        "colab": {
          "base_uri": "https://localhost:8080/",
          "height": 35
        },
        "id": "PuCF0RihwvbT",
        "outputId": "c790f4dd-af04-4d5e-ab34-ed9cdcf5dc82"
      },
      "source": [
        "# example 2\n",
        "word_corrector('uple',customers_list)"
      ],
      "execution_count": 13,
      "outputs": [
        {
          "output_type": "execute_result",
          "data": {
            "application/vnd.google.colaboratory.intrinsic+json": {
              "type": "string"
            },
            "text/plain": [
              "'apple'"
            ]
          },
          "metadata": {},
          "execution_count": 13
        }
      ]
    },
    {
      "cell_type": "code",
      "metadata": {
        "id": "hqS_MOdUx2Gr"
      },
      "source": [
        "# we could also have returned a list of word from the closest to the farthest\n",
        "def word_corrector_v2(word, words_list):\n",
        "  # creating a dictionnary where keys are words from words_list and values are levenshtein distance between key and word\n",
        "  dict_distances = {i:jellyfish.levenshtein_distance(word,i) for i in words_list}\n",
        "\n",
        "  return sorted(dict_distances,key = dict_distances.get)"
      ],
      "execution_count": 56,
      "outputs": []
    },
    {
      "cell_type": "code",
      "metadata": {
        "colab": {
          "base_uri": "https://localhost:8080/"
        },
        "id": "nnhF97uv1H3D",
        "outputId": "636bd2fc-340f-4ed9-c84f-88d4495dfd9a"
      },
      "source": [
        "word_corrector_v2('abm',customers_list)"
      ],
      "execution_count": 58,
      "outputs": [
        {
          "output_type": "execute_result",
          "data": {
            "text/plain": [
              "['ibm', 'apple', 'amazon', 'facebook', 'google', 'microsoft']"
            ]
          },
          "metadata": {},
          "execution_count": 58
        }
      ]
    },
    {
      "cell_type": "code",
      "metadata": {
        "id": "bDegQ5oI8igk"
      },
      "source": [
        "# or we could set a threshold for the levenshtein distance and return the words that have a smaller distance than this threshold. this could be useful if we have quite similar words in our list\n",
        "def word_corrector_v3(word, words_list,threshold):\n",
        "  # creating a dictionnary where keys are words from words_list and values are levenshtein distance between key and word\n",
        "  dict_distances = {i:jellyfish.levenshtein_distance(word,i) for i in words_list if jellyfish.levenshtein_distance(word,i)<threshold}\n",
        "\n",
        "  return sorted(dict_distances,key = dict_distances.get)"
      ],
      "execution_count": 62,
      "outputs": []
    },
    {
      "cell_type": "code",
      "metadata": {
        "colab": {
          "base_uri": "https://localhost:8080/"
        },
        "id": "zhDPepmF-Vyx",
        "outputId": "f5c8fd7a-4c1c-4f41-855a-1fd3530effaa"
      },
      "source": [
        "word_corrector_v3('ggle',customers_list,4)"
      ],
      "execution_count": 67,
      "outputs": [
        {
          "output_type": "execute_result",
          "data": {
            "text/plain": [
              "['google', 'apple']"
            ]
          },
          "metadata": {},
          "execution_count": 67
        }
      ]
    },
    {
      "cell_type": "code",
      "metadata": {
        "id": "tiBT6ZRO-eYb"
      },
      "source": [
        ""
      ],
      "execution_count": null,
      "outputs": []
    }
  ]
}